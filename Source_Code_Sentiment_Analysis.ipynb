{
  "nbformat": 4,
  "nbformat_minor": 0,
  "metadata": {
    "colab": {
      "name": "Source Code Sentiment Analysis",
      "provenance": [],
      "collapsed_sections": []
    },
    "kernelspec": {
      "name": "python3",
      "display_name": "Python 3"
    },
    "language_info": {
      "name": "python"
    }
  },
  "cells": [
    {
      "cell_type": "markdown",
      "source": [
        "# **Importing Libraries**"
      ],
      "metadata": {
        "id": "qnkiFh1077qb"
      }
    },
    {
      "cell_type": "code",
      "execution_count": 1,
      "metadata": {
        "id": "y8z2nfDk7vXW"
      },
      "outputs": [],
      "source": [
        "import warnings\n",
        "warnings.filterwarnings('ignore')\n",
        "import numpy as np\n",
        "import pandas as pd\n",
        "import matplotlib.pyplot as plt\n",
        "import seaborn as sns\n",
        "import pickle\n",
        "\n",
        "from tqdm import tqdm\n",
        "import re\n",
        "import nltk\n",
        "from bs4 import BeautifulSoup\n",
        "from nltk.tag import pos_tag\n",
        "from nltk.stem import PorterStemmer\n",
        "from nltk.stem import WordNetLemmatizer\n",
        "from nltk.corpus import stopwords\n",
        "from nltk.corpus import wordnet\n",
        "\n",
        "from sklearn.feature_extraction.text import TfidfVectorizer\n",
        "from sklearn.feature_extraction.text import CountVectorizer\n",
        "\n",
        "from sklearn import metrics\n",
        "from sklearn.metrics import accuracy_score\n",
        "from sklearn.metrics import confusion_matrix\n",
        "\n",
        "from sklearn.model_selection import train_test_split\n",
        "from sklearn.model_selection import GridSearchCV\n",
        "from sklearn.naive_bayes import MultinomialNB\n",
        "from sklearn.svm import SVC"
      ]
    },
    {
      "cell_type": "code",
      "source": [
        "data = pd.read_csv(\"/content/labeledTrainData.tsv.zip\", header=0, delimiter=\"\\t\", quoting=3)"
      ],
      "metadata": {
        "id": "QKorRXdWEHDK"
      },
      "execution_count": 17,
      "outputs": []
    },
    {
      "cell_type": "code",
      "source": [
        "data.drop('id',inplace=True,axis=1)\n",
        "data_copy=data.copy(deep=True)\n",
        "data.head()"
      ],
      "metadata": {
        "colab": {
          "base_uri": "https://localhost:8080/",
          "height": 206
        },
        "id": "6HzzVGRDEjyP",
        "outputId": "523cf632-055a-4003-e52d-059130b15724"
      },
      "execution_count": 18,
      "outputs": [
        {
          "output_type": "execute_result",
          "data": {
            "text/plain": [
              "   sentiment                                             review\n",
              "0          1  \"With all this stuff going down at the moment ...\n",
              "1          1  \"\\\"The Classic War of the Worlds\\\" by Timothy ...\n",
              "2          0  \"The film starts with a manager (Nicholas Bell...\n",
              "3          0  \"It must be assumed that those who praised thi...\n",
              "4          1  \"Superbly trashy and wondrously unpretentious ..."
            ],
            "text/html": [
              "\n",
              "  <div id=\"df-f53ff732-d29b-4570-b962-1412cb6c1d18\">\n",
              "    <div class=\"colab-df-container\">\n",
              "      <div>\n",
              "<style scoped>\n",
              "    .dataframe tbody tr th:only-of-type {\n",
              "        vertical-align: middle;\n",
              "    }\n",
              "\n",
              "    .dataframe tbody tr th {\n",
              "        vertical-align: top;\n",
              "    }\n",
              "\n",
              "    .dataframe thead th {\n",
              "        text-align: right;\n",
              "    }\n",
              "</style>\n",
              "<table border=\"1\" class=\"dataframe\">\n",
              "  <thead>\n",
              "    <tr style=\"text-align: right;\">\n",
              "      <th></th>\n",
              "      <th>sentiment</th>\n",
              "      <th>review</th>\n",
              "    </tr>\n",
              "  </thead>\n",
              "  <tbody>\n",
              "    <tr>\n",
              "      <th>0</th>\n",
              "      <td>1</td>\n",
              "      <td>\"With all this stuff going down at the moment ...</td>\n",
              "    </tr>\n",
              "    <tr>\n",
              "      <th>1</th>\n",
              "      <td>1</td>\n",
              "      <td>\"\\\"The Classic War of the Worlds\\\" by Timothy ...</td>\n",
              "    </tr>\n",
              "    <tr>\n",
              "      <th>2</th>\n",
              "      <td>0</td>\n",
              "      <td>\"The film starts with a manager (Nicholas Bell...</td>\n",
              "    </tr>\n",
              "    <tr>\n",
              "      <th>3</th>\n",
              "      <td>0</td>\n",
              "      <td>\"It must be assumed that those who praised thi...</td>\n",
              "    </tr>\n",
              "    <tr>\n",
              "      <th>4</th>\n",
              "      <td>1</td>\n",
              "      <td>\"Superbly trashy and wondrously unpretentious ...</td>\n",
              "    </tr>\n",
              "  </tbody>\n",
              "</table>\n",
              "</div>\n",
              "      <button class=\"colab-df-convert\" onclick=\"convertToInteractive('df-f53ff732-d29b-4570-b962-1412cb6c1d18')\"\n",
              "              title=\"Convert this dataframe to an interactive table.\"\n",
              "              style=\"display:none;\">\n",
              "        \n",
              "  <svg xmlns=\"http://www.w3.org/2000/svg\" height=\"24px\"viewBox=\"0 0 24 24\"\n",
              "       width=\"24px\">\n",
              "    <path d=\"M0 0h24v24H0V0z\" fill=\"none\"/>\n",
              "    <path d=\"M18.56 5.44l.94 2.06.94-2.06 2.06-.94-2.06-.94-.94-2.06-.94 2.06-2.06.94zm-11 1L8.5 8.5l.94-2.06 2.06-.94-2.06-.94L8.5 2.5l-.94 2.06-2.06.94zm10 10l.94 2.06.94-2.06 2.06-.94-2.06-.94-.94-2.06-.94 2.06-2.06.94z\"/><path d=\"M17.41 7.96l-1.37-1.37c-.4-.4-.92-.59-1.43-.59-.52 0-1.04.2-1.43.59L10.3 9.45l-7.72 7.72c-.78.78-.78 2.05 0 2.83L4 21.41c.39.39.9.59 1.41.59.51 0 1.02-.2 1.41-.59l7.78-7.78 2.81-2.81c.8-.78.8-2.07 0-2.86zM5.41 20L4 18.59l7.72-7.72 1.47 1.35L5.41 20z\"/>\n",
              "  </svg>\n",
              "      </button>\n",
              "      \n",
              "  <style>\n",
              "    .colab-df-container {\n",
              "      display:flex;\n",
              "      flex-wrap:wrap;\n",
              "      gap: 12px;\n",
              "    }\n",
              "\n",
              "    .colab-df-convert {\n",
              "      background-color: #E8F0FE;\n",
              "      border: none;\n",
              "      border-radius: 50%;\n",
              "      cursor: pointer;\n",
              "      display: none;\n",
              "      fill: #1967D2;\n",
              "      height: 32px;\n",
              "      padding: 0 0 0 0;\n",
              "      width: 32px;\n",
              "    }\n",
              "\n",
              "    .colab-df-convert:hover {\n",
              "      background-color: #E2EBFA;\n",
              "      box-shadow: 0px 1px 2px rgba(60, 64, 67, 0.3), 0px 1px 3px 1px rgba(60, 64, 67, 0.15);\n",
              "      fill: #174EA6;\n",
              "    }\n",
              "\n",
              "    [theme=dark] .colab-df-convert {\n",
              "      background-color: #3B4455;\n",
              "      fill: #D2E3FC;\n",
              "    }\n",
              "\n",
              "    [theme=dark] .colab-df-convert:hover {\n",
              "      background-color: #434B5C;\n",
              "      box-shadow: 0px 1px 3px 1px rgba(0, 0, 0, 0.15);\n",
              "      filter: drop-shadow(0px 1px 2px rgba(0, 0, 0, 0.3));\n",
              "      fill: #FFFFFF;\n",
              "    }\n",
              "  </style>\n",
              "\n",
              "      <script>\n",
              "        const buttonEl =\n",
              "          document.querySelector('#df-f53ff732-d29b-4570-b962-1412cb6c1d18 button.colab-df-convert');\n",
              "        buttonEl.style.display =\n",
              "          google.colab.kernel.accessAllowed ? 'block' : 'none';\n",
              "\n",
              "        async function convertToInteractive(key) {\n",
              "          const element = document.querySelector('#df-f53ff732-d29b-4570-b962-1412cb6c1d18');\n",
              "          const dataTable =\n",
              "            await google.colab.kernel.invokeFunction('convertToInteractive',\n",
              "                                                     [key], {});\n",
              "          if (!dataTable) return;\n",
              "\n",
              "          const docLinkHtml = 'Like what you see? Visit the ' +\n",
              "            '<a target=\"_blank\" href=https://colab.research.google.com/notebooks/data_table.ipynb>data table notebook</a>'\n",
              "            + ' to learn more about interactive tables.';\n",
              "          element.innerHTML = '';\n",
              "          dataTable['output_type'] = 'display_data';\n",
              "          await google.colab.output.renderOutput(dataTable, element);\n",
              "          const docLink = document.createElement('div');\n",
              "          docLink.innerHTML = docLinkHtml;\n",
              "          element.appendChild(docLink);\n",
              "        }\n",
              "      </script>\n",
              "    </div>\n",
              "  </div>\n",
              "  "
            ]
          },
          "metadata": {},
          "execution_count": 18
        }
      ]
    },
    {
      "cell_type": "code",
      "source": [
        "print('-----SHAPE OF THE DATASET-----')\n",
        "data.shape"
      ],
      "metadata": {
        "colab": {
          "base_uri": "https://localhost:8080/"
        },
        "id": "9s_BCu2uEoz8",
        "outputId": "f73bd6a8-d0c1-4c5f-a71b-0b8cb85a1748"
      },
      "execution_count": 19,
      "outputs": [
        {
          "output_type": "stream",
          "name": "stdout",
          "text": [
            "-----SHAPE OF THE DATASET-----\n"
          ]
        },
        {
          "output_type": "execute_result",
          "data": {
            "text/plain": [
              "(25000, 2)"
            ]
          },
          "metadata": {},
          "execution_count": 19
        }
      ]
    },
    {
      "cell_type": "code",
      "source": [
        "print('-----DISTRIBUTION OF DATASET-----')\n",
        "data['sentiment'].value_counts()"
      ],
      "metadata": {
        "colab": {
          "base_uri": "https://localhost:8080/"
        },
        "id": "glKG8GpOEr-O",
        "outputId": "d045c296-2043-42f8-b17d-0043198ef3f6"
      },
      "execution_count": 20,
      "outputs": [
        {
          "output_type": "stream",
          "name": "stdout",
          "text": [
            "-----DISTRIBUTION OF DATASET-----\n"
          ]
        },
        {
          "output_type": "execute_result",
          "data": {
            "text/plain": [
              "1    12500\n",
              "0    12500\n",
              "Name: sentiment, dtype: int64"
            ]
          },
          "metadata": {},
          "execution_count": 20
        }
      ]
    },
    {
      "cell_type": "markdown",
      "source": [
        "# **Nan/Null Value and Duplicate Checks**"
      ],
      "metadata": {
        "id": "bfw4_aptE0id"
      }
    },
    {
      "cell_type": "code",
      "source": [
        "print(\"We have {} NaN/Null values in dataset \".format(data.isnull().values.sum()))\n",
        "print(\"Number of duplicate in  dataset : {} \".format(sum(data['review'].duplicated())))"
      ],
      "metadata": {
        "colab": {
          "base_uri": "https://localhost:8080/"
        },
        "id": "cRkOCeaWE31J",
        "outputId": "c5f4955f-2650-409e-d2e1-0ed4ba439563"
      },
      "execution_count": 21,
      "outputs": [
        {
          "output_type": "stream",
          "name": "stdout",
          "text": [
            "We have 0 NaN/Null values in dataset \n",
            "Number of duplicate in  dataset : 96 \n"
          ]
        }
      ]
    },
    {
      "cell_type": "code",
      "source": [
        "#removing duplicate rows\n",
        "print('REMOVING DUPLICATE ROWS....')\n",
        "data=data.drop_duplicates(subset={'review'}, keep='first', inplace=False)\n",
        "data.shape"
      ],
      "metadata": {
        "colab": {
          "base_uri": "https://localhost:8080/"
        },
        "id": "uJlJf8yAE_Qv",
        "outputId": "2cf0d054-e00c-47f2-89ea-bd81faa7bac6"
      },
      "execution_count": 22,
      "outputs": [
        {
          "output_type": "stream",
          "name": "stdout",
          "text": [
            "REMOVING DUPLICATE ROWS....\n"
          ]
        },
        {
          "output_type": "execute_result",
          "data": {
            "text/plain": [
              "(24904, 2)"
            ]
          },
          "metadata": {},
          "execution_count": 22
        }
      ]
    },
    {
      "cell_type": "markdown",
      "source": [
        "*   From the above samples of data we can understand ,it is mandatory to clean the data"
      ],
      "metadata": {
        "id": "bZ5Az-b0FLX8"
      }
    },
    {
      "cell_type": "markdown",
      "source": [
        "# **Data Preprocessing**"
      ],
      "metadata": {
        "id": "9-2jMiLyFYBN"
      }
    },
    {
      "cell_type": "markdown",
      "source": [
        "**Decontracting the words**"
      ],
      "metadata": {
        "id": "hiGLjJVmF1Ty"
      }
    },
    {
      "cell_type": "code",
      "source": [
        "def decontracted(phrase):\n",
        "    phrase = re.sub(r\"won't\", \"will not\", phrase)\n",
        "    phrase = re.sub(r\"can\\'t\", \"can not\", phrase)\n",
        "    phrase = re.sub(r\"n\\'t\", \" not\", phrase)\n",
        "    phrase = re.sub(r\"\\'re\", \" are\", phrase)\n",
        "    phrase = re.sub(r\"\\'s\", \" is\", phrase)\n",
        "    phrase = re.sub(r\"\\'d\", \" would\", phrase)\n",
        "    phrase = re.sub(r\"\\'ll\", \" will\", phrase)\n",
        "    phrase = re.sub(r\"\\'t\", \" not\", phrase)\n",
        "    phrase = re.sub(r\"\\'ve\", \" have\", phrase)\n",
        "    phrase = re.sub(r\"\\'m\", \" am\", phrase)\n",
        "    return phrase"
      ],
      "metadata": {
        "id": "YCTsDNXtF2nl"
      },
      "execution_count": 23,
      "outputs": []
    },
    {
      "cell_type": "markdown",
      "source": [
        "**Removing all urls from data, Removing all tags from data, Decontracting the words, Removing special character from data, Removing stop words**"
      ],
      "metadata": {
        "id": "gCWTrirJyp2K"
      }
    },
    {
      "cell_type": "code",
      "source": [
        "nltk.download('stopwords')\n",
        "eng_stopwords = set(stopwords.words('english'))\n",
        "def cleaning(data):\n",
        "  preprocessed_reviews = []\n",
        "  for sentance in tqdm(data['review'].values):\n",
        "    sentance = re.sub(r\"http\\S+\", \"\", sentance)\n",
        "    sentance = BeautifulSoup(sentance, 'lxml').get_text()\n",
        "    sentance = decontracted(sentance)\n",
        "    sentance = re.sub(\"\\S*\\d\\S*\", \"\", sentance).strip()\n",
        "    sentance = re.sub('[^A-Za-z]+', ' ', sentance)\n",
        "    sentance = ' '.join(e.lower() for e in sentance.split() if e.lower() not in eng_stopwords) \n",
        "    preprocessed_reviews.append(sentance.strip())\n",
        "  data['review']=preprocessed_reviews\n",
        "  return data"
      ],
      "metadata": {
        "colab": {
          "base_uri": "https://localhost:8080/"
        },
        "id": "c1bJDl2PGTxH",
        "outputId": "08f78ff1-3c92-45d5-cabd-a0a6c00bfb94"
      },
      "execution_count": 24,
      "outputs": [
        {
          "output_type": "stream",
          "name": "stderr",
          "text": [
            "[nltk_data] Downloading package stopwords to /root/nltk_data...\n",
            "[nltk_data]   Unzipping corpora/stopwords.zip.\n"
          ]
        }
      ]
    },
    {
      "cell_type": "code",
      "source": [
        "data_after_cleaning=cleaning(data) #dataframe after cleaning\n",
        "#data_after_cleaning.to_csv('after_cleaning.csv')# saving csv file"
      ],
      "metadata": {
        "colab": {
          "base_uri": "https://localhost:8080/"
        },
        "id": "vH8VLAg3Ga5T",
        "outputId": "7c917cd0-c01e-4b30-ca36-8a7838dcc271"
      },
      "execution_count": 25,
      "outputs": [
        {
          "output_type": "stream",
          "name": "stderr",
          "text": [
            "100%|██████████| 24904/24904 [00:18<00:00, 1337.41it/s]\n"
          ]
        }
      ]
    },
    {
      "cell_type": "markdown",
      "source": [
        "**Featurization of data**"
      ],
      "metadata": {
        "id": "3UofXNCxKxSN"
      }
    },
    {
      "cell_type": "code",
      "source": [
        "X=data_after_cleaning['review']\n",
        "Y=data_after_cleaning['sentiment']\n",
        "print(X.shape)\n",
        "print(Y.shape)"
      ],
      "metadata": {
        "colab": {
          "base_uri": "https://localhost:8080/"
        },
        "id": "hIVThaQNLPOB",
        "outputId": "198bd868-11c5-41f7-99ab-a715733e637a"
      },
      "execution_count": 26,
      "outputs": [
        {
          "output_type": "stream",
          "name": "stdout",
          "text": [
            "(24904,)\n",
            "(24904,)\n"
          ]
        }
      ]
    },
    {
      "cell_type": "code",
      "source": [
        "X"
      ],
      "metadata": {
        "colab": {
          "base_uri": "https://localhost:8080/"
        },
        "id": "WOSAlRk4RRKn",
        "outputId": "1332e12c-3cf7-4a6d-f0a9-834707abdea2"
      },
      "execution_count": 28,
      "outputs": [
        {
          "output_type": "execute_result",
          "data": {
            "text/plain": [
              "0        stuff going moment mj started listening music ...\n",
              "1        classic war worlds timothy hines entertaining ...\n",
              "2        film starts manager nicholas bell giving welco...\n",
              "3        must assumed praised film greatest filmed oper...\n",
              "4        superbly trashy wondrously unpretentious explo...\n",
              "                               ...                        \n",
              "24995    seems like consideration gone imdb reviews fil...\n",
              "24996    believe made film completely unnecessary first...\n",
              "24997    guy loser ca get girls needs build picked stro...\n",
              "24998    minute documentary bu uel made early one spain...\n",
              "24999    saw movie child broke heart story unfinished e...\n",
              "Name: review, Length: 24904, dtype: object"
            ]
          },
          "metadata": {},
          "execution_count": 28
        }
      ]
    },
    {
      "cell_type": "code",
      "source": [
        "Y"
      ],
      "metadata": {
        "colab": {
          "base_uri": "https://localhost:8080/"
        },
        "id": "A5zdNHLPRU4x",
        "outputId": "a6f595bf-d435-495c-9cc4-bb034a163299"
      },
      "execution_count": 29,
      "outputs": [
        {
          "output_type": "execute_result",
          "data": {
            "text/plain": [
              "0        1\n",
              "1        1\n",
              "2        0\n",
              "3        0\n",
              "4        1\n",
              "        ..\n",
              "24995    0\n",
              "24996    0\n",
              "24997    0\n",
              "24998    0\n",
              "24999    1\n",
              "Name: sentiment, Length: 24904, dtype: int64"
            ]
          },
          "metadata": {},
          "execution_count": 29
        }
      ]
    },
    {
      "cell_type": "code",
      "source": [
        "# Unique Word Count\n",
        "len(set(\" \".join(list(X.values)).split()))"
      ],
      "metadata": {
        "colab": {
          "base_uri": "https://localhost:8080/"
        },
        "id": "KYK4Hd890_iC",
        "outputId": "8e846614-4b9f-4cec-ad6b-a90c2434cf4a"
      },
      "execution_count": 27,
      "outputs": [
        {
          "output_type": "execute_result",
          "data": {
            "text/plain": [
              "74460"
            ]
          },
          "metadata": {},
          "execution_count": 27
        }
      ]
    },
    {
      "cell_type": "code",
      "source": [
        "# splitting into train and test dataset\n",
        "X_train, X_test, y_train, y_test = train_test_split(X, Y, test_size=0.25,random_state=42)\n",
        "print('TRAIN DATA - ',X_train.shape)\n",
        "print('\\n')\n",
        "print('TEST DATA - ',X_test.shape)"
      ],
      "metadata": {
        "colab": {
          "base_uri": "https://localhost:8080/"
        },
        "id": "-zTG3oFDLl2y",
        "outputId": "1c0c18d5-0e3b-4c8d-8736-57a45237c47d"
      },
      "execution_count": 30,
      "outputs": [
        {
          "output_type": "stream",
          "name": "stdout",
          "text": [
            "TRAIN DATA -  (18678,)\n",
            "\n",
            "\n",
            "TEST DATA -  (6226,)\n"
          ]
        }
      ]
    },
    {
      "cell_type": "markdown",
      "source": [
        "For text data Featurization we can use different types of techniques, here we use mainly 2 types\n",
        "*   Bag of words(with ngrams)\n",
        "*   Tf-Idf"
      ],
      "metadata": {
        "id": "6zSHLioJLuWo"
      }
    },
    {
      "cell_type": "markdown",
      "source": [
        "**TF-Idf**"
      ],
      "metadata": {
        "id": "tf_ZB_hUxUur"
      }
    },
    {
      "cell_type": "code",
      "source": [
        "#tfidf\n",
        "tfidfvectorizer = TfidfVectorizer(min_df=10,max_features=20000)\n",
        "text_tfidf = tfidfvectorizer.fit(X_train.values) #fitting\n",
        "\n",
        "X_train_tfidf =tfidfvectorizer.transform(X_train.values) \n",
        "X_test_tfidf =tfidfvectorizer.transform(X_test.values)\n",
        "\n",
        "print(\"After vectorizations\")\n",
        "print(X_train_tfidf.shape, y_train.shape)\n",
        "print(X_test_tfidf.shape, y_test.shape)"
      ],
      "metadata": {
        "colab": {
          "base_uri": "https://localhost:8080/"
        },
        "id": "F4hPCs4JxTi_",
        "outputId": "beeadbc3-411f-4418-ab43-2ec6584bb947"
      },
      "execution_count": 31,
      "outputs": [
        {
          "output_type": "stream",
          "name": "stdout",
          "text": [
            "After vectorizations\n",
            "(18678, 15344) (18678,)\n",
            "(6226, 15344) (6226,)\n"
          ]
        }
      ]
    },
    {
      "cell_type": "code",
      "source": [
        "#Save tfidfvectorizer to pickle\n",
        "\n",
        "#pickle.dump(tfidfvectorizer, open(\"tfidfvectorizer.pkl\",\"wb\"))"
      ],
      "metadata": {
        "id": "_P7UXe8sWzfb"
      },
      "execution_count": null,
      "outputs": []
    },
    {
      "cell_type": "markdown",
      "source": [
        "# **Modeling**"
      ],
      "metadata": {
        "id": "XtsXMzZHxcxo"
      }
    },
    {
      "cell_type": "markdown",
      "source": [
        "*   For modelling we use only tf-idf vectorized data only.\n",
        "\n"
      ],
      "metadata": {
        "id": "-aKbqotfxj1v"
      }
    },
    {
      "cell_type": "code",
      "source": [
        "# Support Vector Machine\n",
        "\n",
        "from sklearn import svm\n",
        "svm = svm.SVC()\n",
        "svm.fit(X_train_tfidf, y_train)\n",
        "print(\"Accuracy: \",(accuracy_score(y_test,svm.predict(X_test_tfidf))))"
      ],
      "metadata": {
        "colab": {
          "base_uri": "https://localhost:8080/"
        },
        "id": "XrfqTDPuxa9B",
        "outputId": "ad018fed-84fc-4c30-9465-dfad3106b1a7"
      },
      "execution_count": 32,
      "outputs": [
        {
          "output_type": "stream",
          "name": "stdout",
          "text": [
            "Accuracy:  0.8925473819466753\n"
          ]
        }
      ]
    },
    {
      "cell_type": "code",
      "source": [
        "metrics.plot_confusion_matrix(svm, X_test_tfidf, y_test)"
      ],
      "metadata": {
        "colab": {
          "base_uri": "https://localhost:8080/",
          "height": 296
        },
        "id": "aRh0UGPrGCnW",
        "outputId": "78a6b4f1-0ac6-45ad-b5dc-a294afa0e671"
      },
      "execution_count": 33,
      "outputs": [
        {
          "output_type": "execute_result",
          "data": {
            "text/plain": [
              "<sklearn.metrics._plot.confusion_matrix.ConfusionMatrixDisplay at 0x7f3d8be74e50>"
            ]
          },
          "metadata": {},
          "execution_count": 33
        },
        {
          "output_type": "display_data",
          "data": {
            "text/plain": [
              "<Figure size 432x288 with 2 Axes>"
            ],
            "image/png": "[encoded data removed]"
          },
          "metadata": {
            "needs_background": "light"
          }
        }
      ]
    },
    {
      "cell_type": "code",
      "source": [
        "#Gausian Naive Bayes\n",
        "\n",
        "from sklearn.naive_bayes import GaussianNB\n",
        "GNB = GaussianNB()\n",
        "GNB.fit(X_train_tfidf.toarray(), y_train)\n",
        "print(\"Accuracy: \",(accuracy_score(y_test,GNB.predict(X_test_tfidf.toarray()))))"
      ],
      "metadata": {
        "colab": {
          "base_uri": "https://localhost:8080/"
        },
        "id": "WmThm3BizH7w",
        "outputId": "1d2ae4c1-274e-462a-c005-9b601c547122"
      },
      "execution_count": 34,
      "outputs": [
        {
          "output_type": "stream",
          "name": "stdout",
          "text": [
            "Accuracy:  0.7640539672341793\n"
          ]
        }
      ]
    },
    {
      "cell_type": "code",
      "source": [
        "metrics.plot_confusion_matrix(GNB, X_test_tfidf.toarray(), y_test)"
      ],
      "metadata": {
        "colab": {
          "base_uri": "https://localhost:8080/",
          "height": 296
        },
        "id": "H5N-JeuFGE2F",
        "outputId": "b5f23a78-fef4-4711-f896-a9cfe5d3b67b"
      },
      "execution_count": 35,
      "outputs": [
        {
          "output_type": "execute_result",
          "data": {
            "text/plain": [
              "<sklearn.metrics._plot.confusion_matrix.ConfusionMatrixDisplay at 0x7f3d8ad40c10>"
            ]
          },
          "metadata": {},
          "execution_count": 35
        },
        {
          "output_type": "display_data",
          "data": {
            "text/plain": [
              "<Figure size 432x288 with 2 Axes>"
            ],
            "image/png": "[encoded data removed]"
          },
          "metadata": {
            "needs_background": "light"
          }
        }
      ]
    },
    {
      "cell_type": "code",
      "source": [
        "#Stochastic Gradient Descent\n",
        "from sklearn.linear_model import SGDClassifier\n",
        "sgd = SGDClassifier()\n",
        "sgd.fit(X_train_tfidf, y_train)\n",
        "print(\"Accuracy: \",(accuracy_score(y_test,sgd.predict(X_test_tfidf))))"
      ],
      "metadata": {
        "colab": {
          "base_uri": "https://localhost:8080/"
        },
        "id": "ca-tg-HC4wS2",
        "outputId": "4283e0d9-e4d8-4d32-bba7-b51f8ae69ef2"
      },
      "execution_count": 36,
      "outputs": [
        {
          "output_type": "stream",
          "name": "stdout",
          "text": [
            "Accuracy:  0.8920655316415034\n"
          ]
        }
      ]
    },
    {
      "cell_type": "code",
      "source": [
        "metrics.plot_confusion_matrix(sgd, X_test_tfidf, y_test)"
      ],
      "metadata": {
        "colab": {
          "base_uri": "https://localhost:8080/",
          "height": 296
        },
        "id": "IJvvzTYmGHWZ",
        "outputId": "4c62d922-718d-4296-ab84-0e68ac4c3dc9"
      },
      "execution_count": 37,
      "outputs": [
        {
          "output_type": "execute_result",
          "data": {
            "text/plain": [
              "<sklearn.metrics._plot.confusion_matrix.ConfusionMatrixDisplay at 0x7f3d8cb26b90>"
            ]
          },
          "metadata": {},
          "execution_count": 37
        },
        {
          "output_type": "display_data",
          "data": {
            "text/plain": [
              "<Figure size 432x288 with 2 Axes>"
            ],
            "image/png": "[encoded data removed]"
          },
          "metadata": {
            "needs_background": "light"
          }
        }
      ]
    },
    {
      "cell_type": "code",
      "source": [
        "#Ridge Classifier\n",
        "from sklearn.linear_model import RidgeClassifier\n",
        "rc = RidgeClassifier()\n",
        "rc.fit(X_train_tfidf, y_train)\n",
        "print(\"Accuracy: \",(accuracy_score(y_test,rc.predict(X_test_tfidf))))"
      ],
      "metadata": {
        "colab": {
          "base_uri": "https://localhost:8080/"
        },
        "id": "XvmIzees36u8",
        "outputId": "21c80c00-87ad-454b-ef3c-2c1bbd61d2db"
      },
      "execution_count": 38,
      "outputs": [
        {
          "output_type": "stream",
          "name": "stdout",
          "text": [
            "Accuracy:  0.8821072920012849\n"
          ]
        }
      ]
    },
    {
      "cell_type": "code",
      "source": [
        "metrics.plot_confusion_matrix(rc, X_test_tfidf, y_test)"
      ],
      "metadata": {
        "colab": {
          "base_uri": "https://localhost:8080/",
          "height": 296
        },
        "id": "5xI-fkETGJ7h",
        "outputId": "25159c7d-110b-4a02-d179-2f5c11f098e1"
      },
      "execution_count": 39,
      "outputs": [
        {
          "output_type": "execute_result",
          "data": {
            "text/plain": [
              "<sklearn.metrics._plot.confusion_matrix.ConfusionMatrixDisplay at 0x7f3d8adc7fd0>"
            ]
          },
          "metadata": {},
          "execution_count": 39
        },
        {
          "output_type": "display_data",
          "data": {
            "text/plain": [
              "<Figure size 432x288 with 2 Axes>"
            ],
            "image/png": "[encoded data removed]"
          },
          "metadata": {
            "needs_background": "light"
          }
        }
      ]
    },
    {
      "cell_type": "code",
      "source": [
        "#Decision Tree\n",
        "from sklearn import tree\n",
        "decision_tree = tree.DecisionTreeClassifier()\n",
        "decision_tree.fit(X_train_tfidf, y_train)\n",
        "print(\"Accuracy: \",(accuracy_score(y_test,decision_tree.predict(X_test_tfidf))))"
      ],
      "metadata": {
        "colab": {
          "base_uri": "https://localhost:8080/"
        },
        "id": "NNadohaE6RPF",
        "outputId": "93bae6e8-f528-47f3-c6f6-c73381f6b0f2"
      },
      "execution_count": 40,
      "outputs": [
        {
          "output_type": "stream",
          "name": "stdout",
          "text": [
            "Accuracy:  0.7166720205589463\n"
          ]
        }
      ]
    },
    {
      "cell_type": "code",
      "source": [
        "metrics.plot_confusion_matrix(decision_tree, X_test_tfidf, y_test)"
      ],
      "metadata": {
        "colab": {
          "base_uri": "https://localhost:8080/",
          "height": 296
        },
        "id": "tmCOhbflGMke",
        "outputId": "76e85917-28fc-4907-d4ad-b48a882a521b"
      },
      "execution_count": 41,
      "outputs": [
        {
          "output_type": "execute_result",
          "data": {
            "text/plain": [
              "<sklearn.metrics._plot.confusion_matrix.ConfusionMatrixDisplay at 0x7f3d8d2c5190>"
            ]
          },
          "metadata": {},
          "execution_count": 41
        },
        {
          "output_type": "display_data",
          "data": {
            "text/plain": [
              "<Figure size 432x288 with 2 Axes>"
            ],
            "image/png": "[encoded data removed]"
          },
          "metadata": {
            "needs_background": "light"
          }
        }
      ]
    },
    {
      "cell_type": "code",
      "source": [
        "#Logistic Regression\n",
        "from sklearn.linear_model import LogisticRegression\n",
        "lr = LogisticRegression()\n",
        "lr.fit(X_train_tfidf, y_train)\n",
        "print(\"Accuracy: \",(accuracy_score(y_test,lr.predict(X_test_tfidf))))"
      ],
      "metadata": {
        "colab": {
          "base_uri": "https://localhost:8080/"
        },
        "id": "dtH5UwSONt3N",
        "outputId": "6b2dd67d-c513-46d6-9c81-ad3dddc2d7be"
      },
      "execution_count": 42,
      "outputs": [
        {
          "output_type": "stream",
          "name": "stdout",
          "text": [
            "Accuracy:  0.8891744298104722\n"
          ]
        }
      ]
    },
    {
      "cell_type": "code",
      "source": [
        "metrics.plot_confusion_matrix(lr, X_test_tfidf, y_test)"
      ],
      "metadata": {
        "colab": {
          "base_uri": "https://localhost:8080/",
          "height": 296
        },
        "id": "FyGSMUgKWF63",
        "outputId": "f87949b9-f802-4c3e-fc8f-1db910242bef"
      },
      "execution_count": 43,
      "outputs": [
        {
          "output_type": "execute_result",
          "data": {
            "text/plain": [
              "<sklearn.metrics._plot.confusion_matrix.ConfusionMatrixDisplay at 0x7f3d8d429b50>"
            ]
          },
          "metadata": {},
          "execution_count": 43
        },
        {
          "output_type": "display_data",
          "data": {
            "text/plain": [
              "<Figure size 432x288 with 2 Axes>"
            ],
            "image/png": "[encoded data removed]"
          },
          "metadata": {
            "needs_background": "light"
          }
        }
      ]
    },
    {
      "cell_type": "markdown",
      "source": [
        "***We use Model SGDClassifier for Deployment***"
      ],
      "metadata": {
        "id": "AhsLlmGZacqh"
      }
    },
    {
      "cell_type": "code",
      "source": [
        "#Stochastic Gradient Descent\n",
        "from sklearn.linear_model import SGDClassifier\n",
        "\n",
        "for feat in range(1000, 20000, 2000):\n",
        "  tfidfvectorizer = TfidfVectorizer(min_df=10,max_features=feat)\n",
        "  text_tfidf = tfidfvectorizer.fit(X_train.values) #fitting\n",
        "\n",
        "  X_train_tfidf =tfidfvectorizer.transform(X_train.values) \n",
        "  X_test_tfidf =tfidfvectorizer.transform(X_test.values)\n",
        "\n",
        "  sgd = SGDClassifier()\n",
        "  sgd.fit(X_train_tfidf, y_train)\n",
        "  print(feat, \"Accuracy: \",(accuracy_score(y_test,sgd.predict(X_test_tfidf))))"
      ],
      "metadata": {
        "colab": {
          "base_uri": "https://localhost:8080/"
        },
        "id": "fuG2Jv9m45F9",
        "outputId": "59bd2751-bfc6-485c-cc36-3ff9c27f676a"
      },
      "execution_count": 45,
      "outputs": [
        {
          "output_type": "stream",
          "name": "stdout",
          "text": [
            "1000 Accuracy:  0.8581753935110825\n",
            "3000 Accuracy:  0.8771281721811757\n",
            "5000 Accuracy:  0.8837134596851911\n",
            "7000 Accuracy:  0.8901381304208159\n",
            "9000 Accuracy:  0.8893350465788629\n",
            "11000 Accuracy:  0.8890138130420816\n",
            "13000 Accuracy:  0.8896562801156441\n",
            "15000 Accuracy:  0.8920655316415034\n",
            "17000 Accuracy:  0.8928686154834564\n",
            "19000 Accuracy:  0.8919049148731127\n"
          ]
        }
      ]
    },
    {
      "cell_type": "code",
      "source": [
        "metrics.plot_confusion_matrix(sgd, X_test_tfidf, y_test)"
      ],
      "metadata": {
        "colab": {
          "base_uri": "https://localhost:8080/",
          "height": 296
        },
        "id": "6PLrz_IvXtux",
        "outputId": "d4f9a141-50a2-460a-ef03-09e425f13538"
      },
      "execution_count": 46,
      "outputs": [
        {
          "output_type": "execute_result",
          "data": {
            "text/plain": [
              "<sklearn.metrics._plot.confusion_matrix.ConfusionMatrixDisplay at 0x7f3d87d68550>"
            ]
          },
          "metadata": {},
          "execution_count": 46
        },
        {
          "output_type": "display_data",
          "data": {
            "text/plain": [
              "<Figure size 432x288 with 2 Axes>"
            ],
            "image/png": "[encoded data removed]"
          },
          "metadata": {
            "needs_background": "light"
          }
        }
      ]
    },
    {
      "cell_type": "code",
      "source": [
        "#Save tfidfvectorizer 19k features and save model SGD Classifier\n",
        "\n",
        "#pickle.dump(tfidfvectorizer, open(\"tfidfvectorizer_19k.pkl\",\"wb\"))\n",
        "#pickle.dump(sgd, open(\"model_sgd.pkl\",\"wb\"))"
      ],
      "metadata": {
        "id": "JjI1tP9HRXO4"
      },
      "execution_count": null,
      "outputs": []
    },
    {
      "cell_type": "code",
      "source": [
        "from sklearn.linear_model import LogisticRegression\n",
        "\n",
        "for feat in range(1000, 20000, 2000):\n",
        "  tfidfvectorizer = TfidfVectorizer(min_df=10,max_features=feat)\n",
        "  text_tfidf = tfidfvectorizer.fit(X_train.values) #fitting\n",
        "\n",
        "  X_train_tfidf =tfidfvectorizer.transform(X_train.values) \n",
        "  X_test_tfidf =tfidfvectorizer.transform(X_test.values)\n",
        "\n",
        "  lr = LogisticRegression()\n",
        "  lr.fit(X_train_tfidf, y_train)\n",
        "  print(feat,\"Accuracy: \",(accuracy_score(y_test,lr.predict(X_test_tfidf))))"
      ],
      "metadata": {
        "colab": {
          "base_uri": "https://localhost:8080/"
        },
        "id": "z7A1X_ka5XLS",
        "outputId": "11a7cd46-8b2d-40d1-bb6c-dfcf7b8b7bd3"
      },
      "execution_count": 47,
      "outputs": [
        {
          "output_type": "stream",
          "name": "stdout",
          "text": [
            "1000 Accuracy:  0.8589784773530357\n",
            "3000 Accuracy:  0.8779312560231288\n",
            "5000 Accuracy:  0.8822679087696755\n",
            "7000 Accuracy:  0.8862833279794411\n",
            "9000 Accuracy:  0.8882107292001284\n",
            "11000 Accuracy:  0.8885319627369097\n",
            "13000 Accuracy:  0.888853196273691\n",
            "15000 Accuracy:  0.8890138130420816\n",
            "17000 Accuracy:  0.8891744298104722\n",
            "19000 Accuracy:  0.8891744298104722\n"
          ]
        }
      ]
    },
    {
      "cell_type": "code",
      "source": [
        "#KNN\n",
        "from sklearn.neighbors import KNeighborsClassifier\n",
        "for k in range(1000, 1101, 10):\n",
        "  knn = KNeighborsClassifier(n_neighbors=k)\n",
        "  knn.fit(X_train_tfidf, y_train)\n",
        "  print(k, \"Accuracy: \",(accuracy_score(y_test,knn.predict(X_test_tfidf))))"
      ],
      "metadata": {
        "colab": {
          "base_uri": "https://localhost:8080/"
        },
        "id": "M1FNwMso0uOX",
        "outputId": "520b1662-36b2-4104-88f8-fc7cef2c7fa2"
      },
      "execution_count": 51,
      "outputs": [
        {
          "output_type": "stream",
          "name": "stdout",
          "text": [
            "1000 Accuracy:  0.8103115965306779\n",
            "1010 Accuracy:  0.8104722132990684\n",
            "1020 Accuracy:  0.8099903629938966\n",
            "1030 Accuracy:  0.8120783809829746\n",
            "1040 Accuracy:  0.8107934468358496\n",
            "1050 Accuracy:  0.8112752971410215\n",
            "1060 Accuracy:  0.8095085126887247\n",
            "1070 Accuracy:  0.8107934468358496\n",
            "1080 Accuracy:  0.8096691294571153\n",
            "1090 Accuracy:  0.8093478959203341\n",
            "1100 Accuracy:  0.8090266623835528\n"
          ]
        }
      ]
    },
    {
      "cell_type": "code",
      "source": [
        "metrics.plot_confusion_matrix(knn, X_test_tfidf, y_test)"
      ],
      "metadata": {
        "colab": {
          "base_uri": "https://localhost:8080/",
          "height": 296
        },
        "id": "lu84dVq5Yrjp",
        "outputId": "7253f60a-de5e-43dd-f911-a74639d4450d"
      },
      "execution_count": 52,
      "outputs": [
        {
          "output_type": "execute_result",
          "data": {
            "text/plain": [
              "<sklearn.metrics._plot.confusion_matrix.ConfusionMatrixDisplay at 0x7f3d8ce55210>"
            ]
          },
          "metadata": {},
          "execution_count": 52
        },
        {
          "output_type": "display_data",
          "data": {
            "text/plain": [
              "<Figure size 432x288 with 2 Axes>"
            ],
            "image/png": "[encoded data removed]"
          },
          "metadata": {
            "needs_background": "light"
          }
        }
      ]
    },
    {
      "cell_type": "code",
      "source": [
        "#Random Forest\n",
        "from sklearn.ensemble import RandomForestClassifier\n",
        "rf = RandomForestClassifier()\n",
        "rf.fit(X_train_tfidf, y_train)\n",
        "print(\"Accuracy: \",(accuracy_score(y_test,rf.predict(X_test_tfidf))))"
      ],
      "metadata": {
        "colab": {
          "base_uri": "https://localhost:8080/"
        },
        "id": "dvPk72FDGWbd",
        "outputId": "ecfaeec3-9190-4e24-88c5-e2b4c0264009"
      },
      "execution_count": 53,
      "outputs": [
        {
          "output_type": "stream",
          "name": "stdout",
          "text": [
            "Accuracy:  0.8530356569225828\n"
          ]
        }
      ]
    },
    {
      "cell_type": "code",
      "source": [
        "metrics.plot_confusion_matrix(rf, X_test_tfidf, y_test)"
      ],
      "metadata": {
        "colab": {
          "base_uri": "https://localhost:8080/",
          "height": 296
        },
        "id": "EJkynxqxGudo",
        "outputId": "5a4b27dd-da49-45c1-f4f0-d5b98671f681"
      },
      "execution_count": null,
      "outputs": [
        {
          "output_type": "execute_result",
          "data": {
            "text/plain": [
              "<sklearn.metrics._plot.confusion_matrix.ConfusionMatrixDisplay at 0x7fe8d65b8390>"
            ]
          },
          "metadata": {},
          "execution_count": 42
        },
        {
          "output_type": "display_data",
          "data": {
            "text/plain": [
              "<Figure size 432x288 with 2 Axes>"
            ],
            "image/png": "[encoded data removed]"
          },
          "metadata": {
            "needs_background": "light"
          }
        }
      ]
    }
  ]
}